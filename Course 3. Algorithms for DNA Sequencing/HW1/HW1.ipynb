{
 "cells": [
  {
   "cell_type": "markdown",
   "id": "305815fb",
   "metadata": {},
   "source": [
    "<div class=\"alert alert-block alert-success\">\n",
    "<b>Implementation of the naive exact matching algorithm</b>\n",
    "</div>"
   ]
  },
  {
   "cell_type": "code",
   "execution_count": 2,
   "id": "01c716dd",
   "metadata": {},
   "outputs": [],
   "source": [
    "def naive(p, t):\n",
    "    occurrences = []\n",
    "    for i in range(len(t) - len(p) + 1):  # loop over alignments\n",
    "        match = True\n",
    "        for j in range(len(p)):  # loop over characters\n",
    "            if t[i+j] != p[j]:  # compare characters\n",
    "                match = False\n",
    "                break\n",
    "        if match:\n",
    "            occurrences.append(i)  # all chars matched; record\n",
    "    return occurrences"
   ]
  },
  {
   "cell_type": "markdown",
   "id": "6dba68ba",
   "metadata": {},
   "source": [
    "<div class=\"alert alert-block alert-success\">\n",
    "<b> Function that takes a DNA string and returns its reverse complement </b>\n",
    "</div>"
   ]
  },
  {
   "cell_type": "code",
   "execution_count": 3,
   "id": "45b62945",
   "metadata": {},
   "outputs": [],
   "source": [
    "def reverseComplement(s):\n",
    "    complement = {'A': 'T', 'C': 'G', 'G': 'C', 'T': 'A', 'N': 'N'}\n",
    "    t = ''\n",
    "    for base in s:\n",
    "        t = complement[base] + t\n",
    "    return t"
   ]
  },
  {
   "cell_type": "markdown",
   "id": "18b4071e",
   "metadata": {},
   "source": [
    "<div class=\"alert alert-block alert-success\">\n",
    "<b> Function that parses a DNA reference genome from a file in the FASTA format </b>\n",
    "</div>"
   ]
  },
  {
   "cell_type": "code",
   "execution_count": 18,
   "id": "9fc3f022",
   "metadata": {},
   "outputs": [],
   "source": [
    "    def readGenome(filename):\n",
    "        genome = ''\n",
    "        with open(filename, 'r') as f:\n",
    "            for line in f:\n",
    "                # ignore header line with genome information\n",
    "                if not line[0] == '>':\n",
    "                    genome += line.rstrip()\n",
    "        return genome"
   ]
  },
  {
   "cell_type": "markdown",
   "id": "2a722ee1",
   "metadata": {},
   "source": [
    "<div class=\"alert alert-block alert-success\">\n",
    "<b>Function that parses the read and quality strings from a FASTQ file containing sequencing reads</b>\n",
    "</div>"
   ]
  },
  {
   "cell_type": "code",
   "execution_count": 25,
   "id": "40a46e89",
   "metadata": {},
   "outputs": [],
   "source": [
    "def readFastq(filename):\n",
    "    sequences = []\n",
    "    qualities = []\n",
    "    with open(filename) as fh:\n",
    "        while True:\n",
    "            fh.readline()  # skip name line\n",
    "            seq = fh.readline().rstrip()  # read base sequence\n",
    "            fh.readline()  # skip placeholder line\n",
    "            qual = fh.readline().rstrip() # base quality line\n",
    "            if len(seq) == 0:\n",
    "                break\n",
    "            sequences.append(seq)\n",
    "            qualities.append(qual)\n",
    "    return sequences, qualities\n",
    "\n",
    "def phred33ToQ(qual):\n",
    "    return ord(qual) - 33\n",
    "\n",
    "\n",
    "def createHist(qualities):\n",
    "    # Create a histogram of quality scores\n",
    "    hist = [0]*len(qualities[0])\n",
    "    for qual in qualities:\n",
    "        for i in range(len(qual)):\n",
    "            q = phred33ToQ(qual[i])\n",
    "            hist[i] += q\n",
    "    return hist"
   ]
  },
  {
   "cell_type": "markdown",
   "id": "b786f1d0",
   "metadata": {},
   "source": [
    "<div class=\"alert alert-block alert-success\">\n",
    "<b> HW </b>\n",
    "</div>"
   ]
  },
  {
   "cell_type": "code",
   "execution_count": 19,
   "id": "6ec36a97",
   "metadata": {},
   "outputs": [],
   "source": [
    "def rcNaive(read):\n",
    "    genome = readGenome(\"lambda_virus.fa\")\n",
    "\n",
    "    revread = reverseComplement(read)\n",
    "\n",
    "    countRead = naive(read, genome)\n",
    "    countRe_read = []\n",
    "    if read != revread:\n",
    "        countRe_read = naive(revread, genome)\n",
    "        print(len(countRead) + len(countRe_read))\n",
    "    else:\n",
    "        print(len(countRead))"
   ]
  },
  {
   "cell_type": "code",
   "execution_count": null,
   "id": "f252d76a",
   "metadata": {},
   "outputs": [],
   "source": [
    "def naive_2mm(p, t):\n",
    "    occurrences = []\n",
    "    for i in range(len(t) - len(p) + 1):  # loop over alignments\n",
    "        mismatches = 0\n",
    "        match = True\n",
    "        for j in range(len(p)):  # loop over characters\n",
    "            if t[i+j] != p[j]:  # compare characters\n",
    "                if mismatches < 2:\n",
    "                    mismatches += 1\n",
    "                else:\n",
    "                    match = False\n",
    "                    break\n",
    "        if match:\n",
    "            occurrences.append(i)  # all chars matched; record\n",
    "    return occurrences"
   ]
  },
  {
   "cell_type": "code",
   "execution_count": 26,
   "id": "e6f7c8c8",
   "metadata": {},
   "outputs": [
    {
     "data": {
      "image/png": "[encoded data removed]",
      "text/plain": [
       "<Figure size 432x288 with 1 Axes>"
      ]
     },
     "metadata": {
      "needs_background": "light"
     },
     "output_type": "display_data"
    }
   ],
   "source": [
    "%matplotlib inline\n",
    "reads_file = 'ERR037900_1.first1000.fastq'\n",
    "_, quals = readFastq(reads_file)\n",
    "qual_hist = createHist(quals)\n",
    "plt.plot(range(len(qual_hist)), qual_hist)\n",
    "plt.show()"
   ]
  }
 ],
 "metadata": {
  "kernelspec": {
   "display_name": "Python 3 (ipykernel)",
   "language": "python",
   "name": "python3"
  },
  "language_info": {
   "codemirror_mode": {
    "name": "ipython",
    "version": 3
   },
   "file_extension": ".py",
   "mimetype": "text/x-python",
   "name": "python",
   "nbconvert_exporter": "python",
   "pygments_lexer": "ipython3",
   "version": "3.10.6"
  }
 },
 "nbformat": 4,
 "nbformat_minor": 5
}
